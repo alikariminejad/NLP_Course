{
 "cells": [
  {
   "cell_type": "code",
   "id": "initial_id",
   "metadata": {
    "collapsed": true,
    "ExecuteTime": {
     "end_time": "2024-11-11T09:06:39.416469Z",
     "start_time": "2024-11-11T09:06:39.407496Z"
    }
   },
   "source": "import spacy",
   "outputs": [],
   "execution_count": 3
  },
  {
   "metadata": {
    "ExecuteTime": {
     "end_time": "2024-11-11T09:06:41.700252Z",
     "start_time": "2024-11-11T09:06:40.052791Z"
    }
   },
   "cell_type": "code",
   "source": "nlp = spacy.load('en_core_web_sm')",
   "id": "8c32ee3e916acaec",
   "outputs": [],
   "execution_count": 4
  },
  {
   "metadata": {
    "ExecuteTime": {
     "end_time": "2024-11-11T09:06:41.747127Z",
     "start_time": "2024-11-11T09:06:41.707234Z"
    }
   },
   "cell_type": "code",
   "source": "doc = nlp(\"The quick brown fox jumps over the lazy dog's back.\")",
   "id": "77f23c2505397cd7",
   "outputs": [],
   "execution_count": 5
  },
  {
   "metadata": {
    "ExecuteTime": {
     "end_time": "2024-11-11T09:06:41.793005Z",
     "start_time": "2024-11-11T09:06:41.780039Z"
    }
   },
   "cell_type": "code",
   "source": "print(doc.text)",
   "id": "5e7b4658e2748cc",
   "outputs": [
    {
     "name": "stdout",
     "output_type": "stream",
     "text": [
      "The quick brown fox jumps over the lazy dog's back.\n"
     ]
    }
   ],
   "execution_count": 6
  },
  {
   "metadata": {
    "ExecuteTime": {
     "end_time": "2024-11-11T09:06:41.900715Z",
     "start_time": "2024-11-11T09:06:41.881767Z"
    }
   },
   "cell_type": "code",
   "source": "print(doc[4].tag_)",
   "id": "d2facc6196baa72b",
   "outputs": [
    {
     "name": "stdout",
     "output_type": "stream",
     "text": [
      "VBZ\n"
     ]
    }
   ],
   "execution_count": 7
  },
  {
   "metadata": {
    "ExecuteTime": {
     "end_time": "2024-11-11T09:06:42.101179Z",
     "start_time": "2024-11-11T09:06:42.090210Z"
    }
   },
   "cell_type": "code",
   "source": "print(doc[4].pos_)",
   "id": "e8c685022519191",
   "outputs": [
    {
     "name": "stdout",
     "output_type": "stream",
     "text": [
      "VERB\n"
     ]
    }
   ],
   "execution_count": 8
  },
  {
   "metadata": {
    "ExecuteTime": {
     "end_time": "2024-11-11T09:06:42.224880Z",
     "start_time": "2024-11-11T09:06:42.210888Z"
    }
   },
   "cell_type": "code",
   "source": [
    "for token in doc:\n",
    "    print(f\"{token.text:{10}} {token.pos_:{7}} {token.tag_:{8}} {spacy.explain(token.tag_)}\")"
   ],
   "id": "fedf12818217e47",
   "outputs": [
    {
     "name": "stdout",
     "output_type": "stream",
     "text": [
      "The        DET     DT       determiner\n",
      "quick      ADJ     JJ       adjective\n",
      "brown      ADJ     JJ       adjective\n",
      "fox        NOUN    NN       noun, singular or mass\n",
      "jumps      VERB    VBZ      verb, 3rd person singular present\n",
      "over       ADP     IN       conjunction, subordinating or preposition\n",
      "the        DET     DT       determiner\n",
      "lazy       ADJ     JJ       adjective\n",
      "dog        NOUN    NN       noun, singular or mass\n",
      "'s         PART    POS      possessive ending\n",
      "back       NOUN    NN       noun, singular or mass\n",
      ".          PUNCT   .        punctuation mark, sentence closer\n"
     ]
    }
   ],
   "execution_count": 9
  },
  {
   "metadata": {
    "ExecuteTime": {
     "end_time": "2024-11-11T09:06:42.347521Z",
     "start_time": "2024-11-11T09:06:42.312615Z"
    }
   },
   "cell_type": "code",
   "source": "doc = nlp(\"I read books on NLP.\")",
   "id": "c2cb9b76aec451b0",
   "outputs": [],
   "execution_count": 10
  },
  {
   "metadata": {
    "ExecuteTime": {
     "end_time": "2024-11-11T09:06:42.411349Z",
     "start_time": "2024-11-11T09:06:42.397387Z"
    }
   },
   "cell_type": "code",
   "source": "word = doc[1]",
   "id": "3d3377f9d9f2abe7",
   "outputs": [],
   "execution_count": 11
  },
  {
   "metadata": {
    "ExecuteTime": {
     "end_time": "2024-11-11T09:06:42.442267Z",
     "start_time": "2024-11-11T09:06:42.426310Z"
    }
   },
   "cell_type": "code",
   "source": "word.text",
   "id": "f7cb9ddc08b22b37",
   "outputs": [
    {
     "data": {
      "text/plain": [
       "'read'"
      ]
     },
     "execution_count": 12,
     "metadata": {},
     "output_type": "execute_result"
    }
   ],
   "execution_count": 12
  },
  {
   "metadata": {
    "ExecuteTime": {
     "end_time": "2024-11-11T09:06:42.487147Z",
     "start_time": "2024-11-11T09:06:42.475179Z"
    }
   },
   "cell_type": "code",
   "source": [
    "token = word\n",
    "print(f\"{token.text:{10}} {token.pos_:{7}} {token.tag_:{8}} {spacy.explain(token.tag_)}\")"
   ],
   "id": "83cd6b7478fa6e71",
   "outputs": [
    {
     "name": "stdout",
     "output_type": "stream",
     "text": [
      "read       VERB    VBP      verb, non-3rd person singular present\n"
     ]
    }
   ],
   "execution_count": 13
  },
  {
   "metadata": {
    "ExecuteTime": {
     "end_time": "2024-11-11T09:06:42.578902Z",
     "start_time": "2024-11-11T09:06:42.537014Z"
    }
   },
   "cell_type": "code",
   "source": "doc = nlp(\"I read a book on NLP.\")",
   "id": "1970056f34e402a2",
   "outputs": [],
   "execution_count": 14
  },
  {
   "metadata": {
    "ExecuteTime": {
     "end_time": "2024-11-11T09:06:42.608821Z",
     "start_time": "2024-11-11T09:06:42.596853Z"
    }
   },
   "cell_type": "code",
   "source": [
    "word = doc[1]\n",
    "token = word\n",
    "print(f\"{token.text:{10}} {token.pos_:{7}} {token.tag_:{8}} {spacy.explain(token.tag_)}\")"
   ],
   "id": "ac6803d43aa6a90e",
   "outputs": [
    {
     "name": "stdout",
     "output_type": "stream",
     "text": [
      "read       VERB    VBD      verb, past tense\n"
     ]
    }
   ],
   "execution_count": 15
  },
  {
   "metadata": {
    "ExecuteTime": {
     "end_time": "2024-11-11T09:06:42.671653Z",
     "start_time": "2024-11-11T09:06:42.651707Z"
    }
   },
   "cell_type": "code",
   "source": "doc = nlp(\"The quick brown fox jumps over the lazy dog's back.\")",
   "id": "61272baaaccf43fb",
   "outputs": [],
   "execution_count": 16
  },
  {
   "metadata": {
    "ExecuteTime": {
     "end_time": "2024-11-11T09:06:42.701574Z",
     "start_time": "2024-11-11T09:06:42.690603Z"
    }
   },
   "cell_type": "code",
   "source": "POS_counts = doc.count_by(spacy.attrs.POS)",
   "id": "bafc7d7ae054206b",
   "outputs": [],
   "execution_count": 17
  },
  {
   "metadata": {
    "ExecuteTime": {
     "end_time": "2024-11-11T09:06:55.227792Z",
     "start_time": "2024-11-11T09:06:55.218816Z"
    }
   },
   "cell_type": "code",
   "source": "POS_counts",
   "id": "1e19a027fdf3c29e",
   "outputs": [
    {
     "data": {
      "text/plain": [
       "{96: 1, 83: 3, 99: 1, 84: 1, 89: 2, 91: 3, 93: 1}"
      ]
     },
     "execution_count": 18,
     "metadata": {},
     "output_type": "execute_result"
    }
   ],
   "execution_count": 18
  },
  {
   "metadata": {
    "ExecuteTime": {
     "end_time": "2024-11-11T09:07:18.887506Z",
     "start_time": "2024-11-11T09:07:18.869553Z"
    }
   },
   "cell_type": "code",
   "source": "doc.vocab[89].text",
   "id": "816b4bf131d3fe0c",
   "outputs": [
    {
     "data": {
      "text/plain": [
       "'DET'"
      ]
     },
     "execution_count": 19,
     "metadata": {},
     "output_type": "execute_result"
    }
   ],
   "execution_count": 19
  },
  {
   "metadata": {
    "ExecuteTime": {
     "end_time": "2024-11-11T09:08:24.969252Z",
     "start_time": "2024-11-11T09:08:24.954225Z"
    }
   },
   "cell_type": "code",
   "source": "doc[2].pos_",
   "id": "95dc448c668f2403",
   "outputs": [
    {
     "data": {
      "text/plain": [
       "'ADJ'"
      ]
     },
     "execution_count": 22,
     "metadata": {},
     "output_type": "execute_result"
    }
   ],
   "execution_count": 22
  },
  {
   "metadata": {
    "ExecuteTime": {
     "end_time": "2024-11-11T09:20:44.488075Z",
     "start_time": "2024-11-11T09:20:44.468092Z"
    }
   },
   "cell_type": "code",
   "source": [
    "for k, v in sorted(POS_counts.items()):\n",
    "    print(f\"{k}. {doc.vocab[k].text:{5}} {v}\")"
   ],
   "id": "ce6279e110364c4d",
   "outputs": [
    {
     "name": "stdout",
     "output_type": "stream",
     "text": [
      "83. ADJ   3\n",
      "84. ADP   1\n",
      "89. DET   2\n",
      "91. NOUN  3\n",
      "93. PART  1\n",
      "96. PUNCT 1\n",
      "99. VERB  1\n"
     ]
    }
   ],
   "execution_count": 23
  },
  {
   "metadata": {
    "ExecuteTime": {
     "end_time": "2024-11-11T09:21:50.765615Z",
     "start_time": "2024-11-11T09:21:50.751654Z"
    }
   },
   "cell_type": "code",
   "source": [
    "TAG_counts = doc.count_by(spacy.attrs.TAG)\n",
    "\n",
    "for k, v in sorted(TAG_counts.items()):\n",
    "    print(f\"{k}. {doc.vocab[k].text:{5}} {v}\")"
   ],
   "id": "a5d38f4091723fc4",
   "outputs": [
    {
     "name": "stdout",
     "output_type": "stream",
     "text": [
      "74. POS   1\n",
      "1292078113972184607. IN    1\n",
      "10554686591937588953. JJ    3\n",
      "12646065887601541794. .     1\n",
      "13927759927860985106. VBZ   1\n",
      "15267657372422890137. DT    2\n",
      "15308085513773655218. NN    3\n"
     ]
    }
   ],
   "execution_count": 24
  },
  {
   "metadata": {
    "ExecuteTime": {
     "end_time": "2024-11-11T09:22:42.229938Z",
     "start_time": "2024-11-11T09:22:42.223986Z"
    }
   },
   "cell_type": "code",
   "source": [
    "DEP_counts = doc.count_by(spacy.attrs.DEP)\n",
    "\n",
    "for k, v in sorted(TAG_counts.items()):\n",
    "    print(f\"{k}. {doc.vocab[k].text:{5}} {v}\")"
   ],
   "id": "ad25be6aea5c5fb1",
   "outputs": [
    {
     "name": "stdout",
     "output_type": "stream",
     "text": [
      "74. POS   1\n",
      "1292078113972184607. IN    1\n",
      "10554686591937588953. JJ    3\n",
      "12646065887601541794. .     1\n",
      "13927759927860985106. VBZ   1\n",
      "15267657372422890137. DT    2\n",
      "15308085513773655218. NN    3\n"
     ]
    }
   ],
   "execution_count": 25
  },
  {
   "metadata": {},
   "cell_type": "code",
   "outputs": [],
   "execution_count": null,
   "source": "",
   "id": "50d8dee97bfa91c9"
  }
 ],
 "metadata": {
  "kernelspec": {
   "display_name": "Python 3",
   "language": "python",
   "name": "python3"
  },
  "language_info": {
   "codemirror_mode": {
    "name": "ipython",
    "version": 2
   },
   "file_extension": ".py",
   "mimetype": "text/x-python",
   "name": "python",
   "nbconvert_exporter": "python",
   "pygments_lexer": "ipython2",
   "version": "2.7.6"
  }
 },
 "nbformat": 4,
 "nbformat_minor": 5
}
