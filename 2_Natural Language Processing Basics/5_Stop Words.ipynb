{
 "cells": [
  {
   "cell_type": "code",
   "execution_count": 2,
   "metadata": {},
   "outputs": [
    {
     "name": "stdout",
     "output_type": "stream",
     "text": [
      "{'seemed', 'which', 'thereby', 'something', 'empty', 'often', 'they', 'twenty', 'seem', 'part', 'sometimes', 'same', 're', 'eleven', 'only', 'or', 'five', 'around', 'name', 'among', 'whole', 'then', 'than', 'as', 'neither', 'nothing', 'mostly', 'the', 'amount', 'she', 'should', 'hereby', 'every', 'out', 'serious', 'whose', 'anyone', 'see', 'during', 'several', 'up', 'ourselves', 'became', 'i', 'wherever', 'an', 'using', 'whoever', 'whom', 'but', 'to', 'almost', 'others', 'am', 'this', 'most', 'please', 'so', 'ten', 'ever', 'whither', 'always', 'sometime', 'unless', 'twelve', 'there', 'yet', 'call', 'everything', 'from', 'whenever', 'quite', 'below', 'her', 'would', 'towards', 'toward', 'own', 'put', 'if', 'many', 'yourselves', 'enough', 'him', 'made', 'anything', 'along', 'latter', 'before', 'does', 'everywhere', 'various', 'regarding', 'their', 'did', 'into', 'nine', 'forty', 'us', 'have', 'what', 'perhaps', 'a', 'hers', 'nowhere', 'thence', 'were', 'indeed', 'these', 'without', 'full', 'still', 'next', 'together', 'top', 'while', 'do', 'herself', 'say', 'hence', 'at', 'some', 'someone', 'since', 'ours', 'because', 'more', 'really', 'cannot', 'not', 'himself', 'beforehand', 'above', 'once', 'myself', 'no', 'either', 'further', 'until', 'back', 'could', 'due', 'get', 'else', 'my', 'hundred', 'latterly', 'two', 'go', 'has', 'why', 'thus', 'must', 'are', 'any', 'where', 'herein', 'least', 'eight', 'just', 'show', 'was', 'via', 'six', 'formerly', 'elsewhere', 'beyond', 'although', 'both', 'alone', 'another', 'we', 'anyhow', 'who', 'may', 'upon', 'down', 'few', 'when', 'give', 'after', 'across', 'already', 'by', 'can', 'three', 'four', 'becomes', 'behind', 'even', 'had', 'namely', 'none', 'less', 'noone', 'nor', 'mine', 'for', 'themselves', 'whether', 'all', 'is', 'will', 'much', 'over', 'last', 'and', 'amongst', 'side', 'on', 'under', 'seeming', 'wherein', 'being', 'front', 'thereupon', 'rather', 'throughout', 'otherwise', 'take', 'therein', 'sixty', 'been', 'our', 'those', 'per', 'nobody', 'itself', 'it', 'within', 'also', 'his', 'move', 'well', 'them', 'everyone', 'never', 'me', 'beside', 'off', 'thru', 'too', 'very', 'third', 'become', 'its', 'here', 'therefore', 'fifteen', 'might', 'through', 'besides', 'make', 'again', 'doing', 'whereby', 'except', 'whereafter', 'ca', 'your', 'whatever', 'fifty', 'somewhere', 'each', 'bottom', 'meanwhile', 'such', 'anywhere', 'whereas', 'you', 'be', 'that', 'thereafter', 'former', 'whence', 'whereupon', 'first', 'now', 'in', 'becoming', 'how', 'hereafter', 'keep', 'yours', 'nevertheless', 'with', 'about', 'however', 'between', 'done', 'one', 'yourself', 'moreover', 'of', 'used', 'hereupon', 'other', 'seems', 'somehow', 'against', 'he', 'though', 'afterwards', 'onto', 'anyway'}\n"
     ]
    }
   ],
   "source": [
    "import spacy\n",
    "\n",
    "nlp = spacy.load(\"en_core_web_sm\")\n",
    "\n",
    "print(nlp.Defaults.stop_words)"
   ]
  },
  {
   "cell_type": "code",
   "execution_count": 3,
   "metadata": {},
   "outputs": [
    {
     "data": {
      "text/plain": [
       "305"
      ]
     },
     "execution_count": 3,
     "metadata": {},
     "output_type": "execute_result"
    }
   ],
   "source": [
    "len(nlp.Defaults.stop_words)"
   ]
  },
  {
   "cell_type": "code",
   "execution_count": 6,
   "metadata": {},
   "outputs": [
    {
     "data": {
      "text/plain": [
       "True"
      ]
     },
     "execution_count": 6,
     "metadata": {},
     "output_type": "execute_result"
    }
   ],
   "source": [
    "nlp.vocab['is'].is_stop"
   ]
  },
  {
   "cell_type": "code",
   "execution_count": 7,
   "metadata": {},
   "outputs": [
    {
     "data": {
      "text/plain": [
       "False"
      ]
     },
     "execution_count": 7,
     "metadata": {},
     "output_type": "execute_result"
    }
   ],
   "source": [
    "nlp.vocab['mystery'].is_stop"
   ]
  },
  {
   "cell_type": "code",
   "execution_count": 8,
   "metadata": {},
   "outputs": [],
   "source": [
    "nlp.Defaults.stop_words.add('btw')"
   ]
  },
  {
   "cell_type": "code",
   "execution_count": 9,
   "metadata": {},
   "outputs": [],
   "source": [
    "nlp.vocab['btw'].is_stop = True"
   ]
  },
  {
   "cell_type": "code",
   "execution_count": 10,
   "metadata": {},
   "outputs": [
    {
     "data": {
      "text/plain": [
       "306"
      ]
     },
     "execution_count": 10,
     "metadata": {},
     "output_type": "execute_result"
    }
   ],
   "source": [
    "len(nlp.Defaults.stop_words)"
   ]
  },
  {
   "cell_type": "code",
   "execution_count": 11,
   "metadata": {},
   "outputs": [
    {
     "data": {
      "text/plain": [
       "True"
      ]
     },
     "execution_count": 11,
     "metadata": {},
     "output_type": "execute_result"
    }
   ],
   "source": [
    "nlp.vocab['btw'].is_stop"
   ]
  },
  {
   "cell_type": "code",
   "execution_count": 12,
   "metadata": {},
   "outputs": [],
   "source": [
    "nlp.Defaults.stop_words.remove('beyond')"
   ]
  },
  {
   "cell_type": "code",
   "execution_count": 14,
   "metadata": {},
   "outputs": [],
   "source": [
    "nlp.vocab['beyond'].is_stop = False"
   ]
  },
  {
   "cell_type": "code",
   "execution_count": 15,
   "metadata": {},
   "outputs": [
    {
     "data": {
      "text/plain": [
       "False"
      ]
     },
     "execution_count": 15,
     "metadata": {},
     "output_type": "execute_result"
    }
   ],
   "source": [
    "nlp.vocab['beyond'].is_stop"
   ]
  }
 ],
 "metadata": {
  "kernelspec": {
   "display_name": "nlp_course",
   "language": "python",
   "name": "python3"
  },
  "language_info": {
   "codemirror_mode": {
    "name": "ipython",
    "version": 3
   },
   "file_extension": ".py",
   "mimetype": "text/x-python",
   "name": "python",
   "nbconvert_exporter": "python",
   "pygments_lexer": "ipython3",
   "version": "3.7.16"
  }
 },
 "nbformat": 4,
 "nbformat_minor": 2
}
