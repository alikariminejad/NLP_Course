{
 "cells": [
  {
   "cell_type": "code",
   "metadata": {
    "ExecuteTime": {
     "end_time": "2024-11-10T07:26:54.567638Z",
     "start_time": "2024-11-10T07:26:53.708466Z"
    }
   },
   "source": [
    "import spacy\n",
    "\n",
    "nlp = spacy.load('en_core_web_sm')"
   ],
   "outputs": [],
   "execution_count": 1
  },
  {
   "cell_type": "code",
   "metadata": {
    "ExecuteTime": {
     "end_time": "2024-11-10T07:27:52.360766Z",
     "start_time": "2024-11-10T07:27:52.329523Z"
    }
   },
   "source": [
    "from spacy.matcher import Matcher"
   ],
   "outputs": [],
   "execution_count": 2
  },
  {
   "cell_type": "code",
   "metadata": {
    "ExecuteTime": {
     "end_time": "2024-11-10T07:27:53.425185Z",
     "start_time": "2024-11-10T07:27:53.409560Z"
    }
   },
   "source": [
    "matcher = Matcher(nlp.vocab)"
   ],
   "outputs": [],
   "execution_count": 3
  },
  {
   "cell_type": "code",
   "metadata": {
    "ExecuteTime": {
     "end_time": "2024-11-10T07:33:25.692063Z",
     "start_time": "2024-11-10T07:33:25.677107Z"
    }
   },
   "source": [
    "# SolarPower\n",
    "pattern1 = [{'LOWER':'solarpower'}]\n",
    "# Solar-power\n",
    "pattern2 = [{'LOWER':'solar'}, {'IS_PUNCT':True},{'LOWER':'power'}]\n",
    "# Solar power\n",
    "pattern3 = [{'LOWER':'solar'},{'LOWER':'power'}]"
   ],
   "outputs": [],
   "execution_count": 5
  },
  {
   "metadata": {
    "ExecuteTime": {
     "end_time": "2024-11-10T07:36:25.420292Z",
     "start_time": "2024-11-10T07:36:25.409304Z"
    }
   },
   "cell_type": "code",
   "source": "matcher.add('SolarPower', None, pattern1, pattern2, pattern3)",
   "outputs": [],
   "execution_count": 6
  },
  {
   "metadata": {
    "ExecuteTime": {
     "end_time": "2024-11-10T07:37:41.946729Z",
     "start_time": "2024-11-10T07:37:41.917824Z"
    }
   },
   "cell_type": "code",
   "source": "doc = nlp(\"The Solar Power industry continues to grow a solarpower increases. Solar-power is amazing.\")",
   "outputs": [],
   "execution_count": 7
  },
  {
   "metadata": {
    "ExecuteTime": {
     "end_time": "2024-11-10T07:38:18.638790Z",
     "start_time": "2024-11-10T07:38:18.630813Z"
    }
   },
   "cell_type": "code",
   "source": "found_matches = matcher(doc)",
   "outputs": [],
   "execution_count": 8
  },
  {
   "metadata": {
    "ExecuteTime": {
     "end_time": "2024-11-10T07:38:27.547136Z",
     "start_time": "2024-11-10T07:38:27.527170Z"
    }
   },
   "cell_type": "code",
   "source": "print(found_matches)",
   "outputs": [
    {
     "name": "stdout",
     "output_type": "stream",
     "text": [
      "[(8656102463236116519, 1, 3), (8656102463236116519, 8, 9), (8656102463236116519, 11, 14)]\n"
     ]
    }
   ],
   "execution_count": 9
  },
  {
   "metadata": {
    "ExecuteTime": {
     "end_time": "2024-11-10T07:41:08.681360Z",
     "start_time": "2024-11-10T07:41:08.661389Z"
    }
   },
   "cell_type": "code",
   "source": [
    "for match_id, start, end in found_matches:\n",
    "    string_id = nlp.vocab.strings[match_id]         # get string representation\n",
    "    span = doc[start:end]                           # get the matched span\n",
    "    print(match_id, string_id, start, end, span.text)"
   ],
   "outputs": [
    {
     "name": "stdout",
     "output_type": "stream",
     "text": [
      "8656102463236116519 SolarPower 1 3 Solar Power\n",
      "8656102463236116519 SolarPower 8 9 solarpower\n",
      "8656102463236116519 SolarPower 11 14 Solar-power\n"
     ]
    }
   ],
   "execution_count": 10
  },
  {
   "metadata": {
    "ExecuteTime": {
     "end_time": "2024-11-10T07:43:30.009269Z",
     "start_time": "2024-11-10T07:43:29.996303Z"
    }
   },
   "cell_type": "code",
   "source": "matcher.remove('SolarPower')",
   "outputs": [],
   "execution_count": 11
  },
  {
   "metadata": {
    "ExecuteTime": {
     "end_time": "2024-11-10T07:46:00.714066Z",
     "start_time": "2024-11-10T07:46:00.707085Z"
    }
   },
   "cell_type": "code",
   "source": [
    "# solarpower SolarPower\n",
    "pattern1 = [{'LOWER': 'solarpower'}]\n",
    "# Solar.power\n",
    "pattern2 = [{'LOWER': 'solar'}, {'IS_PUNCT':True,'OP':'*'},{'LOWER':'power'}]"
   ],
   "outputs": [],
   "execution_count": 13
  },
  {
   "metadata": {
    "ExecuteTime": {
     "end_time": "2024-11-10T07:46:20.528374Z",
     "start_time": "2024-11-10T07:46:20.511421Z"
    }
   },
   "cell_type": "code",
   "source": "matcher.add('SolarPower', None, pattern1, pattern2)",
   "outputs": [],
   "execution_count": 15
  },
  {
   "metadata": {
    "ExecuteTime": {
     "end_time": "2024-11-10T07:57:37.593688Z",
     "start_time": "2024-11-10T07:57:37.561778Z"
    }
   },
   "cell_type": "code",
   "source": "doc2 = nlp(\"Solar--power is solarpower yay!\")",
   "outputs": [],
   "execution_count": 16
  },
  {
   "metadata": {
    "ExecuteTime": {
     "end_time": "2024-11-10T07:58:12.554750Z",
     "start_time": "2024-11-10T07:58:12.542782Z"
    }
   },
   "cell_type": "code",
   "source": "found_matches = matcher(doc2)",
   "outputs": [],
   "execution_count": 17
  },
  {
   "metadata": {
    "ExecuteTime": {
     "end_time": "2024-11-10T08:00:01.473652Z",
     "start_time": "2024-11-10T08:00:01.452715Z"
    }
   },
   "cell_type": "code",
   "source": "print(found_matches)",
   "outputs": [
    {
     "name": "stdout",
     "output_type": "stream",
     "text": [
      "[(8656102463236116519, 0, 3), (8656102463236116519, 4, 5)]\n"
     ]
    }
   ],
   "execution_count": 18
  },
  {
   "metadata": {
    "ExecuteTime": {
     "end_time": "2024-11-10T08:05:08.312010Z",
     "start_time": "2024-11-10T08:05:08.281061Z"
    }
   },
   "cell_type": "code",
   "source": [
    "for match_id, start, end in found_matches:\n",
    "    string_id = nlp.vocab.strings[match_id]         # get string representation\n",
    "    span = doc[start:end]                           # get the matched span\n",
    "    print(match_id, string_id, start, end, span.text)        "
   ],
   "outputs": [
    {
     "name": "stdout",
     "output_type": "stream",
     "text": [
      "8656102463236116519 SolarPower 0 3 The Solar Power\n",
      "8656102463236116519 SolarPower 4 5 continues\n"
     ]
    }
   ],
   "execution_count": 19
  },
  {
   "metadata": {},
   "cell_type": "markdown",
   "source": "For additional information: https://spacy.io/usage/rule-based-matching"
  },
  {
   "metadata": {
    "ExecuteTime": {
     "end_time": "2024-11-10T08:12:44.123519Z",
     "start_time": "2024-11-10T08:12:44.103569Z"
    }
   },
   "cell_type": "code",
   "source": "from spacy.matcher import PhraseMatcher",
   "outputs": [],
   "execution_count": 20
  },
  {
   "metadata": {
    "ExecuteTime": {
     "end_time": "2024-11-10T08:17:25.319206Z",
     "start_time": "2024-11-10T08:17:25.301255Z"
    }
   },
   "cell_type": "code",
   "source": "matcher = PhraseMatcher(nlp.vocab)",
   "outputs": [],
   "execution_count": 21
  },
  {
   "metadata": {
    "ExecuteTime": {
     "end_time": "2024-11-10T08:18:53.888452Z",
     "start_time": "2024-11-10T08:18:52.947906Z"
    }
   },
   "cell_type": "code",
   "source": [
    "with open('reaganomics.txt') as f:\n",
    "    doc3 = nlp(f.read())"
   ],
   "outputs": [],
   "execution_count": 23
  },
  {
   "metadata": {
    "ExecuteTime": {
     "end_time": "2024-11-10T08:31:58.844992Z",
     "start_time": "2024-11-10T08:31:58.830711Z"
    }
   },
   "cell_type": "code",
   "source": "phrase_list = ['voodoo economics', 'supply-side economics', 'trickle-down economics', 'free-market economics']",
   "outputs": [],
   "execution_count": 24
  },
  {
   "metadata": {
    "ExecuteTime": {
     "end_time": "2024-11-10T08:32:38.431293Z",
     "start_time": "2024-11-10T08:32:38.378435Z"
    }
   },
   "cell_type": "code",
   "source": "phrase_patterns = [nlp(text) for text in phrase_list]",
   "outputs": [],
   "execution_count": 25
  },
  {
   "metadata": {
    "ExecuteTime": {
     "end_time": "2024-11-10T08:34:21.440844Z",
     "start_time": "2024-11-10T08:34:21.418902Z"
    }
   },
   "cell_type": "code",
   "source": "phrase_patterns",
   "outputs": [
    {
     "data": {
      "text/plain": [
       "[voodoo economics,\n",
       " supply-side economics,\n",
       " trickle-down economics,\n",
       " free-market economics]"
      ]
     },
     "execution_count": 26,
     "metadata": {},
     "output_type": "execute_result"
    }
   ],
   "execution_count": 26
  },
  {
   "metadata": {
    "ExecuteTime": {
     "end_time": "2024-11-10T08:36:13.788829Z",
     "start_time": "2024-11-10T08:36:13.775865Z"
    }
   },
   "cell_type": "code",
   "source": "matcher.add('EconMatcher', None,*phrase_patterns)",
   "outputs": [],
   "execution_count": 27
  },
  {
   "metadata": {
    "ExecuteTime": {
     "end_time": "2024-11-10T08:36:38.985907Z",
     "start_time": "2024-11-10T08:36:38.966956Z"
    }
   },
   "cell_type": "code",
   "source": "found_matches = matcher(doc3)",
   "outputs": [],
   "execution_count": 28
  },
  {
   "metadata": {
    "ExecuteTime": {
     "end_time": "2024-11-10T08:36:50.456025Z",
     "start_time": "2024-11-10T08:36:50.435095Z"
    }
   },
   "cell_type": "code",
   "source": "found_matches",
   "outputs": [
    {
     "data": {
      "text/plain": [
       "[(3680293220734633682, 41, 45),\n",
       " (3680293220734633682, 46, 50),\n",
       " (3680293220734633682, 53, 55),\n",
       " (3680293220734633682, 72, 76),\n",
       " (3680293220734633682, 753, 757)]"
      ]
     },
     "execution_count": 29,
     "metadata": {},
     "output_type": "execute_result"
    }
   ],
   "execution_count": 29
  },
  {
   "metadata": {
    "ExecuteTime": {
     "end_time": "2024-11-10T08:37:23.464904Z",
     "start_time": "2024-11-10T08:37:23.454930Z"
    }
   },
   "cell_type": "code",
   "source": [
    "for match_id, start, end in found_matches:\n",
    "    string_id = nlp.vocab.strings[match_id]         # get string representation\n",
    "    span = doc3[start:end]                           # get the matched span\n",
    "    print(match_id, string_id, start, end, span.text)        "
   ],
   "outputs": [
    {
     "name": "stdout",
     "output_type": "stream",
     "text": [
      "3680293220734633682 EconMatcher 41 45 supply-side economics\n",
      "3680293220734633682 EconMatcher 46 50 trickle-down economics\n",
      "3680293220734633682 EconMatcher 53 55 voodoo economics\n",
      "3680293220734633682 EconMatcher 72 76 free-market economics\n",
      "3680293220734633682 EconMatcher 753 757 supply-side economics\n"
     ]
    }
   ],
   "execution_count": 31
  },
  {
   "metadata": {},
   "cell_type": "markdown",
   "source": "## NLP Basics Assessment"
  },
  {
   "metadata": {
    "ExecuteTime": {
     "end_time": "2024-11-10T08:54:57.687362Z",
     "start_time": "2024-11-10T08:54:57.275494Z"
    }
   },
   "cell_type": "code",
   "source": [
    "# RUN THIS CELL to perform standard imports\n",
    "import spacy\n",
    "nlp = spacy.load('en_core_web_sm')"
   ],
   "outputs": [],
   "execution_count": 33
  },
  {
   "metadata": {},
   "cell_type": "markdown",
   "source": "### 1. Create a Doc object from the file `owlcreek.txt`"
  },
  {
   "metadata": {
    "ExecuteTime": {
     "end_time": "2024-11-10T09:18:39.381635Z",
     "start_time": "2024-11-10T09:18:39.356718Z"
    }
   },
   "cell_type": "code",
   "source": [
    "# Enter your code here:\n",
    "with open(\"owlcreek.txt\") as f:\n",
    "    doc = nlp(f.read())\n",
    "\n",
    "\n",
    "# Run this cell to verify it worked:\n",
    "\n",
    "doc[:36]"
   ],
   "outputs": [
    {
     "ename": "UnicodeDecodeError",
     "evalue": "'charmap' codec can't decode byte 0x9d in position 1665: character maps to <undefined>",
     "output_type": "error",
     "traceback": [
      "\u001B[1;31m---------------------------------------------------------------------------\u001B[0m",
      "\u001B[1;31mUnicodeDecodeError\u001B[0m                        Traceback (most recent call last)",
      "\u001B[1;32m~\\AppData\\Local\\Temp\\ipykernel_14864\\101459890.py\u001B[0m in \u001B[0;36m<module>\u001B[1;34m\u001B[0m\n\u001B[0;32m      1\u001B[0m \u001B[1;31m# Enter your code here:\u001B[0m\u001B[1;33m\u001B[0m\u001B[1;33m\u001B[0m\u001B[1;33m\u001B[0m\u001B[0m\n\u001B[0;32m      2\u001B[0m \u001B[1;32mwith\u001B[0m \u001B[0mopen\u001B[0m\u001B[1;33m(\u001B[0m\u001B[1;34m\"owlcreek.txt\"\u001B[0m\u001B[1;33m)\u001B[0m \u001B[1;32mas\u001B[0m \u001B[0mf\u001B[0m\u001B[1;33m:\u001B[0m\u001B[1;33m\u001B[0m\u001B[1;33m\u001B[0m\u001B[0m\n\u001B[1;32m----> 3\u001B[1;33m     \u001B[0mdoc\u001B[0m \u001B[1;33m=\u001B[0m \u001B[0mnlp\u001B[0m\u001B[1;33m(\u001B[0m\u001B[0mf\u001B[0m\u001B[1;33m.\u001B[0m\u001B[0mread\u001B[0m\u001B[1;33m(\u001B[0m\u001B[1;33m)\u001B[0m\u001B[1;33m)\u001B[0m\u001B[1;33m\u001B[0m\u001B[1;33m\u001B[0m\u001B[0m\n\u001B[0m\u001B[0;32m      4\u001B[0m \u001B[1;33m\u001B[0m\u001B[0m\n\u001B[0;32m      5\u001B[0m \u001B[1;33m\u001B[0m\u001B[0m\n",
      "\u001B[1;32m~\\miniconda3\\envs\\nlp_course\\lib\\encodings\\cp1252.py\u001B[0m in \u001B[0;36mdecode\u001B[1;34m(self, input, final)\u001B[0m\n\u001B[0;32m     21\u001B[0m \u001B[1;32mclass\u001B[0m \u001B[0mIncrementalDecoder\u001B[0m\u001B[1;33m(\u001B[0m\u001B[0mcodecs\u001B[0m\u001B[1;33m.\u001B[0m\u001B[0mIncrementalDecoder\u001B[0m\u001B[1;33m)\u001B[0m\u001B[1;33m:\u001B[0m\u001B[1;33m\u001B[0m\u001B[1;33m\u001B[0m\u001B[0m\n\u001B[0;32m     22\u001B[0m     \u001B[1;32mdef\u001B[0m \u001B[0mdecode\u001B[0m\u001B[1;33m(\u001B[0m\u001B[0mself\u001B[0m\u001B[1;33m,\u001B[0m \u001B[0minput\u001B[0m\u001B[1;33m,\u001B[0m \u001B[0mfinal\u001B[0m\u001B[1;33m=\u001B[0m\u001B[1;32mFalse\u001B[0m\u001B[1;33m)\u001B[0m\u001B[1;33m:\u001B[0m\u001B[1;33m\u001B[0m\u001B[1;33m\u001B[0m\u001B[0m\n\u001B[1;32m---> 23\u001B[1;33m         \u001B[1;32mreturn\u001B[0m \u001B[0mcodecs\u001B[0m\u001B[1;33m.\u001B[0m\u001B[0mcharmap_decode\u001B[0m\u001B[1;33m(\u001B[0m\u001B[0minput\u001B[0m\u001B[1;33m,\u001B[0m\u001B[0mself\u001B[0m\u001B[1;33m.\u001B[0m\u001B[0merrors\u001B[0m\u001B[1;33m,\u001B[0m\u001B[0mdecoding_table\u001B[0m\u001B[1;33m)\u001B[0m\u001B[1;33m[\u001B[0m\u001B[1;36m0\u001B[0m\u001B[1;33m]\u001B[0m\u001B[1;33m\u001B[0m\u001B[1;33m\u001B[0m\u001B[0m\n\u001B[0m\u001B[0;32m     24\u001B[0m \u001B[1;33m\u001B[0m\u001B[0m\n\u001B[0;32m     25\u001B[0m \u001B[1;32mclass\u001B[0m \u001B[0mStreamWriter\u001B[0m\u001B[1;33m(\u001B[0m\u001B[0mCodec\u001B[0m\u001B[1;33m,\u001B[0m\u001B[0mcodecs\u001B[0m\u001B[1;33m.\u001B[0m\u001B[0mStreamWriter\u001B[0m\u001B[1;33m)\u001B[0m\u001B[1;33m:\u001B[0m\u001B[1;33m\u001B[0m\u001B[1;33m\u001B[0m\u001B[0m\n",
      "\u001B[1;31mUnicodeDecodeError\u001B[0m: 'charmap' codec can't decode byte 0x9d in position 1665: character maps to <undefined>"
     ]
    }
   ],
   "execution_count": 40
  },
  {
   "metadata": {},
   "cell_type": "markdown",
   "source": "### 2. How many tokens are contained in the file?"
  },
  {
   "metadata": {},
   "cell_type": "code",
   "outputs": [],
   "execution_count": null,
   "source": ""
  },
  {
   "metadata": {},
   "cell_type": "markdown",
   "source": "### 3. How many sentences are contained in the file?"
  },
  {
   "metadata": {},
   "cell_type": "code",
   "outputs": [],
   "execution_count": null,
   "source": ""
  },
  {
   "metadata": {},
   "cell_type": "markdown",
   "source": [
    "### 4. Print th second sentence in the document\n",
    "\n",
    "HINT: Indexing starts at zero, and the title counts as the first sentence."
   ]
  },
  {
   "metadata": {},
   "cell_type": "code",
   "outputs": [],
   "execution_count": null,
   "source": ""
  },
  {
   "metadata": {},
   "cell_type": "markdown",
   "source": [
    "### 5. For each token in the sentence above, print its `text`, `POS` tag, `dep` tag and `lemma`\n",
    "\n",
    "CHALLENGE: Have values line up in columns in the print output."
   ]
  },
  {
   "metadata": {
    "ExecuteTime": {
     "end_time": "2024-11-10T09:01:56.785311Z",
     "start_time": "2024-11-10T09:01:56.780324Z"
    }
   },
   "cell_type": "code",
   "source": [
    "# NORMAL SOLUTION:\n",
    "\n"
   ],
   "outputs": [],
   "execution_count": 35
  },
  {
   "metadata": {},
   "cell_type": "markdown",
   "source": "### 6. Write a matcher called `Swimming` that finds both occurrences of the phrase \"swimming vigorously\" in the text"
  },
  {
   "metadata": {
    "ExecuteTime": {
     "end_time": "2024-11-10T09:03:58.043029Z",
     "start_time": "2024-11-10T09:03:58.028070Z"
    }
   },
   "cell_type": "code",
   "source": [
    "# Import the Matcher library:\n",
    "\n",
    "from spacy.matcher import Matcher\n",
    "matcher = Matcher(nlp.vocab)"
   ],
   "outputs": [],
   "execution_count": 37
  },
  {
   "metadata": {
    "ExecuteTime": {
     "end_time": "2024-11-10T09:04:14.257873Z",
     "start_time": "2024-11-10T09:04:14.248899Z"
    }
   },
   "cell_type": "code",
   "source": [
    "# Create a pattern and add it to matcher:\n",
    "\n"
   ],
   "outputs": [],
   "execution_count": 38
  },
  {
   "metadata": {},
   "cell_type": "code",
   "outputs": [],
   "execution_count": null,
   "source": "# Create a list of matches called \"found_matches\" and print the list:"
  },
  {
   "metadata": {},
   "cell_type": "markdown",
   "source": "### 7. Print the text surrounding each found match"
  },
  {
   "metadata": {},
   "cell_type": "code",
   "outputs": [],
   "execution_count": null,
   "source": ""
  },
  {
   "metadata": {},
   "cell_type": "markdown",
   "source": [
    "### EXTRA CREDIT:\n",
    "\n",
    "Print the sentence that contains each found match"
   ]
  },
  {
   "metadata": {},
   "cell_type": "code",
   "outputs": [],
   "execution_count": null,
   "source": ""
  }
 ],
 "metadata": {
  "kernelspec": {
   "display_name": "nlp_course",
   "language": "python",
   "name": "python3"
  },
  "language_info": {
   "codemirror_mode": {
    "name": "ipython",
    "version": 3
   },
   "file_extension": ".py",
   "mimetype": "text/x-python",
   "name": "python",
   "nbconvert_exporter": "python",
   "pygments_lexer": "ipython3",
   "version": "3.7.16"
  }
 },
 "nbformat": 4,
 "nbformat_minor": 2
}
