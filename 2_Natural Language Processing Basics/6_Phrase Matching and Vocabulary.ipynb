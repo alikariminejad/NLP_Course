{
 "cells": [
  {
   "cell_type": "code",
   "metadata": {
    "ExecuteTime": {
     "end_time": "2024-11-11T05:51:56.703493Z",
     "start_time": "2024-11-11T05:51:55.906127Z"
    }
   },
   "source": [
    "import spacy\n",
    "\n",
    "nlp = spacy.load('en_core_web_sm')"
   ],
   "outputs": [],
   "execution_count": 2
  },
  {
   "cell_type": "code",
   "metadata": {
    "ExecuteTime": {
     "end_time": "2024-11-11T05:49:04.803670Z",
     "start_time": "2024-11-11T05:49:04.277890Z"
    }
   },
   "source": [
    "from spacy.matcher import Matcher"
   ],
   "outputs": [],
   "execution_count": 1
  },
  {
   "cell_type": "code",
   "metadata": {
    "ExecuteTime": {
     "end_time": "2024-11-10T07:27:53.425185Z",
     "start_time": "2024-11-10T07:27:53.409560Z"
    }
   },
   "source": [
    "matcher = Matcher(nlp.vocab)"
   ],
   "outputs": [],
   "execution_count": 3
  },
  {
   "cell_type": "code",
   "metadata": {
    "ExecuteTime": {
     "end_time": "2024-11-10T07:33:25.692063Z",
     "start_time": "2024-11-10T07:33:25.677107Z"
    }
   },
   "source": [
    "# SolarPower\n",
    "pattern1 = [{'LOWER':'solarpower'}]\n",
    "# Solar-power\n",
    "pattern2 = [{'LOWER':'solar'}, {'IS_PUNCT':True},{'LOWER':'power'}]\n",
    "# Solar power\n",
    "pattern3 = [{'LOWER':'solar'},{'LOWER':'power'}]"
   ],
   "outputs": [],
   "execution_count": 5
  },
  {
   "metadata": {
    "ExecuteTime": {
     "end_time": "2024-11-10T07:36:25.420292Z",
     "start_time": "2024-11-10T07:36:25.409304Z"
    }
   },
   "cell_type": "code",
   "source": "matcher.add('SolarPower', None, pattern1, pattern2, pattern3)",
   "outputs": [],
   "execution_count": 6
  },
  {
   "metadata": {
    "ExecuteTime": {
     "end_time": "2024-11-10T07:37:41.946729Z",
     "start_time": "2024-11-10T07:37:41.917824Z"
    }
   },
   "cell_type": "code",
   "source": "doc = nlp(\"The Solar Power industry continues to grow a solarpower increases. Solar-power is amazing.\")",
   "outputs": [],
   "execution_count": 7
  },
  {
   "metadata": {
    "ExecuteTime": {
     "end_time": "2024-11-10T07:38:18.638790Z",
     "start_time": "2024-11-10T07:38:18.630813Z"
    }
   },
   "cell_type": "code",
   "source": "found_matches = matcher(doc)",
   "outputs": [],
   "execution_count": 8
  },
  {
   "metadata": {
    "ExecuteTime": {
     "end_time": "2024-11-10T07:38:27.547136Z",
     "start_time": "2024-11-10T07:38:27.527170Z"
    }
   },
   "cell_type": "code",
   "source": "print(found_matches)",
   "outputs": [
    {
     "name": "stdout",
     "output_type": "stream",
     "text": [
      "[(8656102463236116519, 1, 3), (8656102463236116519, 8, 9), (8656102463236116519, 11, 14)]\n"
     ]
    }
   ],
   "execution_count": 9
  },
  {
   "metadata": {
    "ExecuteTime": {
     "end_time": "2024-11-10T07:41:08.681360Z",
     "start_time": "2024-11-10T07:41:08.661389Z"
    }
   },
   "cell_type": "code",
   "source": [
    "for match_id, start, end in found_matches:\n",
    "    string_id = nlp.vocab.strings[match_id]         # get string representation\n",
    "    span = doc[start:end]                           # get the matched span\n",
    "    print(match_id, string_id, start, end, span.text)"
   ],
   "outputs": [
    {
     "name": "stdout",
     "output_type": "stream",
     "text": [
      "8656102463236116519 SolarPower 1 3 Solar Power\n",
      "8656102463236116519 SolarPower 8 9 solarpower\n",
      "8656102463236116519 SolarPower 11 14 Solar-power\n"
     ]
    }
   ],
   "execution_count": 10
  },
  {
   "metadata": {
    "ExecuteTime": {
     "end_time": "2024-11-10T07:43:30.009269Z",
     "start_time": "2024-11-10T07:43:29.996303Z"
    }
   },
   "cell_type": "code",
   "source": "matcher.remove('SolarPower')",
   "outputs": [],
   "execution_count": 11
  },
  {
   "metadata": {
    "ExecuteTime": {
     "end_time": "2024-11-10T07:46:00.714066Z",
     "start_time": "2024-11-10T07:46:00.707085Z"
    }
   },
   "cell_type": "code",
   "source": [
    "# solarpower SolarPower\n",
    "pattern1 = [{'LOWER': 'solarpower'}]\n",
    "# Solar.power\n",
    "pattern2 = [{'LOWER': 'solar'}, {'IS_PUNCT':True,'OP':'*'},{'LOWER':'power'}]"
   ],
   "outputs": [],
   "execution_count": 13
  },
  {
   "metadata": {
    "ExecuteTime": {
     "end_time": "2024-11-10T07:46:20.528374Z",
     "start_time": "2024-11-10T07:46:20.511421Z"
    }
   },
   "cell_type": "code",
   "source": "matcher.add('SolarPower', None, pattern1, pattern2)",
   "outputs": [],
   "execution_count": 15
  },
  {
   "metadata": {
    "ExecuteTime": {
     "end_time": "2024-11-10T07:57:37.593688Z",
     "start_time": "2024-11-10T07:57:37.561778Z"
    }
   },
   "cell_type": "code",
   "source": "doc2 = nlp(\"Solar--power is solarpower yay!\")",
   "outputs": [],
   "execution_count": 16
  },
  {
   "metadata": {
    "ExecuteTime": {
     "end_time": "2024-11-10T07:58:12.554750Z",
     "start_time": "2024-11-10T07:58:12.542782Z"
    }
   },
   "cell_type": "code",
   "source": "found_matches = matcher(doc2)",
   "outputs": [],
   "execution_count": 17
  },
  {
   "metadata": {
    "ExecuteTime": {
     "end_time": "2024-11-10T08:00:01.473652Z",
     "start_time": "2024-11-10T08:00:01.452715Z"
    }
   },
   "cell_type": "code",
   "source": "print(found_matches)",
   "outputs": [
    {
     "name": "stdout",
     "output_type": "stream",
     "text": [
      "[(8656102463236116519, 0, 3), (8656102463236116519, 4, 5)]\n"
     ]
    }
   ],
   "execution_count": 18
  },
  {
   "metadata": {
    "ExecuteTime": {
     "end_time": "2024-11-10T08:05:08.312010Z",
     "start_time": "2024-11-10T08:05:08.281061Z"
    }
   },
   "cell_type": "code",
   "source": [
    "for match_id, start, end in found_matches:\n",
    "    string_id = nlp.vocab.strings[match_id]         # get string representation\n",
    "    span = doc[start:end]                           # get the matched span\n",
    "    print(match_id, string_id, start, end, span.text)        "
   ],
   "outputs": [
    {
     "name": "stdout",
     "output_type": "stream",
     "text": [
      "8656102463236116519 SolarPower 0 3 The Solar Power\n",
      "8656102463236116519 SolarPower 4 5 continues\n"
     ]
    }
   ],
   "execution_count": 19
  },
  {
   "metadata": {},
   "cell_type": "markdown",
   "source": "For additional information: https://spacy.io/usage/rule-based-matching"
  },
  {
   "metadata": {
    "ExecuteTime": {
     "end_time": "2024-11-10T08:12:44.123519Z",
     "start_time": "2024-11-10T08:12:44.103569Z"
    }
   },
   "cell_type": "code",
   "source": "from spacy.matcher import PhraseMatcher",
   "outputs": [],
   "execution_count": 20
  },
  {
   "metadata": {
    "ExecuteTime": {
     "end_time": "2024-11-10T08:17:25.319206Z",
     "start_time": "2024-11-10T08:17:25.301255Z"
    }
   },
   "cell_type": "code",
   "source": "matcher = PhraseMatcher(nlp.vocab)",
   "outputs": [],
   "execution_count": 21
  },
  {
   "metadata": {
    "ExecuteTime": {
     "end_time": "2024-11-10T08:18:53.888452Z",
     "start_time": "2024-11-10T08:18:52.947906Z"
    }
   },
   "cell_type": "code",
   "source": [
    "with open('reaganomics.txt') as f:\n",
    "    doc3 = nlp(f.read())"
   ],
   "outputs": [],
   "execution_count": 23
  },
  {
   "metadata": {
    "ExecuteTime": {
     "end_time": "2024-11-10T08:31:58.844992Z",
     "start_time": "2024-11-10T08:31:58.830711Z"
    }
   },
   "cell_type": "code",
   "source": "phrase_list = ['voodoo economics', 'supply-side economics', 'trickle-down economics', 'free-market economics']",
   "outputs": [],
   "execution_count": 24
  },
  {
   "metadata": {
    "ExecuteTime": {
     "end_time": "2024-11-10T08:32:38.431293Z",
     "start_time": "2024-11-10T08:32:38.378435Z"
    }
   },
   "cell_type": "code",
   "source": "phrase_patterns = [nlp(text) for text in phrase_list]",
   "outputs": [],
   "execution_count": 25
  },
  {
   "metadata": {
    "ExecuteTime": {
     "end_time": "2024-11-10T08:34:21.440844Z",
     "start_time": "2024-11-10T08:34:21.418902Z"
    }
   },
   "cell_type": "code",
   "source": "phrase_patterns",
   "outputs": [
    {
     "data": {
      "text/plain": [
       "[voodoo economics,\n",
       " supply-side economics,\n",
       " trickle-down economics,\n",
       " free-market economics]"
      ]
     },
     "execution_count": 26,
     "metadata": {},
     "output_type": "execute_result"
    }
   ],
   "execution_count": 26
  },
  {
   "metadata": {
    "ExecuteTime": {
     "end_time": "2024-11-10T08:36:13.788829Z",
     "start_time": "2024-11-10T08:36:13.775865Z"
    }
   },
   "cell_type": "code",
   "source": "matcher.add('EconMatcher', None,*phrase_patterns)",
   "outputs": [],
   "execution_count": 27
  },
  {
   "metadata": {
    "ExecuteTime": {
     "end_time": "2024-11-10T08:36:38.985907Z",
     "start_time": "2024-11-10T08:36:38.966956Z"
    }
   },
   "cell_type": "code",
   "source": "found_matches = matcher(doc3)",
   "outputs": [],
   "execution_count": 28
  },
  {
   "metadata": {
    "ExecuteTime": {
     "end_time": "2024-11-10T08:36:50.456025Z",
     "start_time": "2024-11-10T08:36:50.435095Z"
    }
   },
   "cell_type": "code",
   "source": "found_matches",
   "outputs": [
    {
     "data": {
      "text/plain": [
       "[(3680293220734633682, 41, 45),\n",
       " (3680293220734633682, 46, 50),\n",
       " (3680293220734633682, 53, 55),\n",
       " (3680293220734633682, 72, 76),\n",
       " (3680293220734633682, 753, 757)]"
      ]
     },
     "execution_count": 29,
     "metadata": {},
     "output_type": "execute_result"
    }
   ],
   "execution_count": 29
  },
  {
   "metadata": {
    "ExecuteTime": {
     "end_time": "2024-11-10T08:37:23.464904Z",
     "start_time": "2024-11-10T08:37:23.454930Z"
    }
   },
   "cell_type": "code",
   "source": [
    "for match_id, start, end in found_matches:\n",
    "    string_id = nlp.vocab.strings[match_id]         # get string representation\n",
    "    span = doc3[start:end]                           # get the matched span\n",
    "    print(match_id, string_id, start, end, span.text)        "
   ],
   "outputs": [
    {
     "name": "stdout",
     "output_type": "stream",
     "text": [
      "3680293220734633682 EconMatcher 41 45 supply-side economics\n",
      "3680293220734633682 EconMatcher 46 50 trickle-down economics\n",
      "3680293220734633682 EconMatcher 53 55 voodoo economics\n",
      "3680293220734633682 EconMatcher 72 76 free-market economics\n",
      "3680293220734633682 EconMatcher 753 757 supply-side economics\n"
     ]
    }
   ],
   "execution_count": 31
  },
  {
   "metadata": {},
   "cell_type": "markdown",
   "source": "## NLP Basics Assessment"
  },
  {
   "metadata": {
    "ExecuteTime": {
     "end_time": "2024-11-11T05:53:40.673997Z",
     "start_time": "2024-11-11T05:53:40.245105Z"
    }
   },
   "cell_type": "code",
   "source": [
    "# RUN THIS CELL to perform standard imports\n",
    "import spacy\n",
    "nlp = spacy.load('en_core_web_sm')"
   ],
   "outputs": [],
   "execution_count": 3
  },
  {
   "metadata": {},
   "cell_type": "markdown",
   "source": "### 1. Create a Doc object from the file `owlcreek.txt`"
  },
  {
   "metadata": {
    "ExecuteTime": {
     "end_time": "2024-11-11T05:54:34.100507Z",
     "start_time": "2024-11-11T05:54:32.830822Z"
    }
   },
   "cell_type": "code",
   "source": [
    "# Enter your code here:\n",
    "with open(\"owlcreek.txt\" ,encoding=\"utf8\") as f:\n",
    "    doc = nlp(f.read())\n",
    "\n",
    "\n",
    "# Run this cell to verify it worked:\n",
    "\n",
    "doc[:36]"
   ],
   "outputs": [
    {
     "data": {
      "text/plain": [
       "The Project Gutenberg eBook of An Occurrence at Owl Creek Bridge, by Ambrose Bierce\n",
       "This eBook is for the use of anyone anywhere in the United States and most other parts of the world"
      ]
     },
     "execution_count": 5,
     "metadata": {},
     "output_type": "execute_result"
    }
   ],
   "execution_count": 5
  },
  {
   "metadata": {},
   "cell_type": "markdown",
   "source": "### 2. How many tokens are contained in the file?"
  },
  {
   "metadata": {
    "ExecuteTime": {
     "end_time": "2024-11-11T06:04:58.405536Z",
     "start_time": "2024-11-11T06:04:58.388577Z"
    }
   },
   "cell_type": "code",
   "source": "len(doc)",
   "outputs": [
    {
     "data": {
      "text/plain": [
       "7911"
      ]
     },
     "execution_count": 6,
     "metadata": {},
     "output_type": "execute_result"
    }
   ],
   "execution_count": 6
  },
  {
   "metadata": {},
   "cell_type": "markdown",
   "source": "### 3. How many sentences are contained in the file?"
  },
  {
   "metadata": {
    "ExecuteTime": {
     "end_time": "2024-11-11T06:10:11.991511Z",
     "start_time": "2024-11-11T06:10:11.976550Z"
    }
   },
   "cell_type": "code",
   "source": [
    "doc_sentences = [sent for sent in doc.sents]\n",
    "len(doc_sentences)"
   ],
   "outputs": [
    {
     "data": {
      "text/plain": [
       "409"
      ]
     },
     "execution_count": 7,
     "metadata": {},
     "output_type": "execute_result"
    }
   ],
   "execution_count": 7
  },
  {
   "metadata": {},
   "cell_type": "markdown",
   "source": [
    "### 4. Print th second sentence in the document\n",
    "\n",
    "HINT: Indexing starts at zero, and the title counts as the first sentence."
   ]
  },
  {
   "metadata": {
    "ExecuteTime": {
     "end_time": "2024-11-11T06:11:18.828808Z",
     "start_time": "2024-11-11T06:11:18.814846Z"
    }
   },
   "cell_type": "code",
   "source": "doc_sentences[1].text",
   "outputs": [
    {
     "data": {
      "text/plain": [
       "'This eBook is for the use of anyone anywhere in the United States and most other parts of the world at no cost and with almost no restrictions whatsoever.'"
      ]
     },
     "execution_count": 10,
     "metadata": {},
     "output_type": "execute_result"
    }
   ],
   "execution_count": 10
  },
  {
   "metadata": {},
   "cell_type": "markdown",
   "source": [
    "### 5. For each token in the sentence above, print its `text`, `POS` tag, `dep` tag and `lemma`\n",
    "\n",
    "CHALLENGE: Have values line up in columns in the print output."
   ]
  },
  {
   "metadata": {
    "ExecuteTime": {
     "end_time": "2024-11-11T06:16:57.924131Z",
     "start_time": "2024-11-11T06:16:57.913162Z"
    }
   },
   "cell_type": "code",
   "source": [
    "for token in doc_sentences[1]:\n",
    "    print(f\"{token.text:{15}} {token.pos_:{5}} {token.dep_:10} {token.lemma_:15}\")"
   ],
   "outputs": [
    {
     "name": "stdout",
     "output_type": "stream",
     "text": [
      "This            DET   det        this           \n",
      "eBook           PROPN nsubj      ebook          \n",
      "is              VERB  ROOT       be             \n",
      "for             ADP   prep       for            \n",
      "the             DET   det        the            \n",
      "use             NOUN  pobj       use            \n",
      "of              ADP   prep       of             \n",
      "anyone          NOUN  pobj       anyone         \n",
      "anywhere        ADV   advmod     anywhere       \n",
      "in              ADP   prep       in             \n",
      "the             DET   det        the            \n",
      "United          PROPN compound   united         \n",
      "States          PROPN pobj       states         \n",
      "and             CCONJ cc         and            \n",
      "most            ADJ   amod       most           \n",
      "other           ADJ   amod       other          \n",
      "parts           NOUN  conj       part           \n",
      "of              ADP   prep       of             \n",
      "the             DET   det        the            \n",
      "world           NOUN  pobj       world          \n",
      "at              ADP   prep       at             \n",
      "no              DET   det        no             \n",
      "cost            NOUN  pobj       cost           \n",
      "and             CCONJ cc         and            \n",
      "with            ADP   conj       with           \n",
      "almost          ADV   advmod     almost         \n",
      "no              DET   nummod     no             \n",
      "restrictions    NOUN  pobj       restriction    \n",
      "whatsoever      ADV   advmod     whatsoever     \n",
      ".               PUNCT punct      .              \n"
     ]
    }
   ],
   "execution_count": 11
  },
  {
   "metadata": {},
   "cell_type": "markdown",
   "source": "### 6. Write a matcher called `Swimming` that finds both occurrences of the phrase \"swimming vigorously\" in the text"
  },
  {
   "metadata": {
    "ExecuteTime": {
     "end_time": "2024-11-11T06:17:19.730658Z",
     "start_time": "2024-11-11T06:17:19.716695Z"
    }
   },
   "cell_type": "code",
   "source": [
    "# Import the Matcher library:\n",
    "\n",
    "from spacy.matcher import Matcher\n",
    "matcher = Matcher(nlp.vocab)"
   ],
   "outputs": [],
   "execution_count": 12
  },
  {
   "metadata": {
    "ExecuteTime": {
     "end_time": "2024-11-11T06:50:46.506460Z",
     "start_time": "2024-11-11T06:50:46.501444Z"
    }
   },
   "cell_type": "code",
   "source": [
    "# Create a pattern and add it to matcher:\n",
    "pattern = [{'LOWER':'swimming'},{'IS_SPACE':True,'OP':'*'},{'LOWER':'vigorously'}]\n",
    "matcher.add('Swimming',None,pattern)\n",
    "found_matches = matcher(doc)"
   ],
   "outputs": [],
   "execution_count": 13
  },
  {
   "metadata": {
    "ExecuteTime": {
     "end_time": "2024-11-11T06:54:47.704142Z",
     "start_time": "2024-11-11T06:54:47.685193Z"
    }
   },
   "cell_type": "code",
   "source": [
    "# Create a list of matches called \"found_matches\" and print the list:\n",
    "print(found_matches)"
   ],
   "outputs": [
    {
     "name": "stdout",
     "output_type": "stream",
     "text": [
      "[(12881893835109366681, 1329, 1331), (12881893835109366681, 3450, 3452)]\n"
     ]
    }
   ],
   "execution_count": 18
  },
  {
   "metadata": {},
   "cell_type": "markdown",
   "source": "### 7. Print the text surrounding each found match"
  },
  {
   "metadata": {
    "ExecuteTime": {
     "end_time": "2024-11-11T06:54:11.529108Z",
     "start_time": "2024-11-11T06:54:11.520100Z"
    }
   },
   "cell_type": "code",
   "source": [
    "def surrounding(doc, start, end):\n",
    "    print(doc[start-5:end+5])"
   ],
   "outputs": [],
   "execution_count": 17
  },
  {
   "metadata": {
    "ExecuteTime": {
     "end_time": "2024-11-11T06:55:22.741179Z",
     "start_time": "2024-11-11T06:55:22.729209Z"
    }
   },
   "cell_type": "code",
   "source": "surrounding(doc,1329, 1331)",
   "outputs": [
    {
     "name": "stdout",
     "output_type": "stream",
     "text": [
      "evade the bullets and, swimming vigorously, reach the bank,\n"
     ]
    }
   ],
   "execution_count": 19
  },
  {
   "metadata": {
    "ExecuteTime": {
     "end_time": "2024-11-11T06:55:50.787838Z",
     "start_time": "2024-11-11T06:55:50.780887Z"
    }
   },
   "cell_type": "code",
   "source": "surrounding(doc, 3450, 3452)",
   "outputs": [
    {
     "name": "stdout",
     "output_type": "stream",
     "text": [
      "shoulder; he was now swimming vigorously with the current. His\n"
     ]
    }
   ],
   "execution_count": 20
  },
  {
   "metadata": {},
   "cell_type": "markdown",
   "source": [
    "### EXTRA CREDIT:\n",
    "\n",
    "Print the sentence that contains each found match"
   ]
  },
  {
   "metadata": {
    "ExecuteTime": {
     "end_time": "2024-11-11T06:57:20.960961Z",
     "start_time": "2024-11-11T06:57:20.942009Z"
    }
   },
   "cell_type": "code",
   "source": [
    "for sentence in doc_sentences:\n",
    "    if found_matches[0][1] < sentence.end:\n",
    "        print(sentence)\n",
    "        break"
   ],
   "outputs": [
    {
     "name": "stdout",
     "output_type": "stream",
     "text": [
      "By diving I could evade the bullets and, swimming vigorously, reach the bank, take to the woods and get away home.\n"
     ]
    }
   ],
   "execution_count": 22
  },
  {
   "metadata": {
    "ExecuteTime": {
     "end_time": "2024-11-11T06:57:52.915573Z",
     "start_time": "2024-11-11T06:57:52.909590Z"
    }
   },
   "cell_type": "code",
   "source": [
    "for sentence in doc_sentences:\n",
    "    if found_matches[1][1] < sentence.end:\n",
    "        print(sentence)\n",
    "        break"
   ],
   "outputs": [
    {
     "name": "stdout",
     "output_type": "stream",
     "text": [
      "The hunted man saw all this over his shoulder; he was now swimming vigorously with the current.\n"
     ]
    }
   ],
   "execution_count": 23
  }
 ],
 "metadata": {
  "kernelspec": {
   "display_name": "nlp_course",
   "language": "python",
   "name": "python3"
  },
  "language_info": {
   "codemirror_mode": {
    "name": "ipython",
    "version": 3
   },
   "file_extension": ".py",
   "mimetype": "text/x-python",
   "name": "python",
   "nbconvert_exporter": "python",
   "pygments_lexer": "ipython3",
   "version": "3.7.16"
  }
 },
 "nbformat": 4,
 "nbformat_minor": 2
}
